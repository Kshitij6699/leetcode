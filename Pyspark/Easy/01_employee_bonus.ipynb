{
 "cells": [
  {
   "cell_type": "code",
   "execution_count": 2,
   "metadata": {},
   "outputs": [],
   "source": [
    "from pyspark.sql import SparkSession\n",
    "\n",
    "spark = SparkSession.builder.appName('SQL').getOrCreate()"
   ]
  },
  {
   "cell_type": "code",
   "execution_count": 37,
   "metadata": {},
   "outputs": [],
   "source": [
    "from pyspark.sql.functions import col"
   ]
  },
  {
   "cell_type": "code",
   "execution_count": 6,
   "metadata": {},
   "outputs": [
    {
     "name": "stdout",
     "output_type": "stream",
     "text": [
      "+-----+------+----------+------+\n",
      "|empId|  name|supervisor|salary|\n",
      "+-----+------+----------+------+\n",
      "|    3|  Brad|      NULL|  4000|\n",
      "|    1|  John|         3|  1000|\n",
      "|    2|   Dan|         3|  2000|\n",
      "|    4|Thomas|         3|  4000|\n",
      "+-----+------+----------+------+\n",
      "\n"
     ]
    }
   ],
   "source": [
    "columns =  ['empId', 'name',  'supervisor' , 'salary']\n",
    "data = [\n",
    "    ( 3, 'Brad'   , None  , 4000),\n",
    "( 1, 'John'   , 3, 1000),\n",
    "( 2, 'Dan'    , 3, 2000),\n",
    "( 4, 'Thomas' , 3, 4000)\n",
    "]\n",
    "\n",
    "employee = spark.createDataFrame(data,columns)\n",
    "employee.show()\n"
   ]
  },
  {
   "cell_type": "code",
   "execution_count": 35,
   "metadata": {},
   "outputs": [
    {
     "name": "stdout",
     "output_type": "stream",
     "text": [
      "+-----+-----+\n",
      "|empID|Bonus|\n",
      "+-----+-----+\n",
      "|    2|  500|\n",
      "|    4| 1000|\n",
      "+-----+-----+\n",
      "\n"
     ]
    }
   ],
   "source": [
    "data = [(2,500),(4,1000)]\n",
    "col = ['empID','Bonus']\n",
    "\n",
    "bonus = spark.createDataFrame(data,col)\n",
    "bonus.show()"
   ]
  },
  {
   "cell_type": "code",
   "execution_count": 38,
   "metadata": {},
   "outputs": [],
   "source": [
    "bonus_emp = employee.join(bonus,on = 'empID',how = 'left').filter((col('bonus') < 1000) | (col('bonus').isNull())).orderBy('empID')"
   ]
  },
  {
   "cell_type": "code",
   "execution_count": 39,
   "metadata": {},
   "outputs": [
    {
     "name": "stdout",
     "output_type": "stream",
     "text": [
      "+-----+----+----------+------+-----+\n",
      "|empId|name|supervisor|salary|Bonus|\n",
      "+-----+----+----------+------+-----+\n",
      "|    1|John|         3|  1000| NULL|\n",
      "|    2| Dan|         3|  2000|  500|\n",
      "|    3|Brad|      NULL|  4000| NULL|\n",
      "+-----+----+----------+------+-----+\n",
      "\n"
     ]
    }
   ],
   "source": [
    "bonus_emp.show()"
   ]
  }
 ],
 "metadata": {
  "kernelspec": {
   "display_name": "Python 3",
   "language": "python",
   "name": "python3"
  },
  "language_info": {
   "codemirror_mode": {
    "name": "ipython",
    "version": 3
   },
   "file_extension": ".py",
   "mimetype": "text/x-python",
   "name": "python",
   "nbconvert_exporter": "python",
   "pygments_lexer": "ipython3",
   "version": "3.11.5"
  }
 },
 "nbformat": 4,
 "nbformat_minor": 2
}
